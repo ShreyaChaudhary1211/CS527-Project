{
 "cells": [
  {
   "cell_type": "code",
   "execution_count": 20,
   "id": "28322727-c5fd-451a-b098-10a2833f5b6d",
   "metadata": {},
   "outputs": [],
   "source": [
    "import pandas as pd\n",
    "from pandas import json_normalize\n",
    "import json\n",
    "import requests\n",
    "import os\n",
    "from unidiff import PatchSet\n",
    "import git\n",
    "from io import StringIO\n",
    "import shutil\n",
    "from git import Repo\n",
    "import subprocess\n",
    "import filecmp"
   ]
  },
  {
   "cell_type": "code",
   "execution_count": 21,
   "id": "71dd9116-9176-4429-ad96-4ec394733e57",
   "metadata": {},
   "outputs": [],
   "source": [
    "with open(\"/home/ashwin/UIUC/CS527/Project/CS527-Project/Bugs/BugSwarm/Export.json\", \"r\") as file:\n",
    "    data = json.load(file)"
   ]
  },
  {
   "cell_type": "code",
   "execution_count": 22,
   "id": "c321addf-ac68-4507-b50c-2e12a4c9dd5f",
   "metadata": {},
   "outputs": [],
   "source": [
    "# Assuming you already loaded the JSON data into a DataFrame\n",
    "df = pd.read_json('/home/ashwin/UIUC/CS527/Project/CS527-Project/Bugs/BugSwarm/Export.json')\n",
    "json_struct = json.loads(df.to_json(orient=\"records\"))    \n",
    "\n",
    "# Now, use json_normalize directly\n",
    "df_flat = json_normalize(json_struct)"
   ]
  },
  {
   "cell_type": "code",
   "execution_count": 23,
   "id": "9faeb2a7-de7b-46af-9fcf-5cd75613913e",
   "metadata": {},
   "outputs": [
    {
     "data": {
      "text/html": [
       "<div>\n",
       "<style scoped>\n",
       "    .dataframe tbody tr th:only-of-type {\n",
       "        vertical-align: middle;\n",
       "    }\n",
       "\n",
       "    .dataframe tbody tr th {\n",
       "        vertical-align: top;\n",
       "    }\n",
       "\n",
       "    .dataframe thead th {\n",
       "        text-align: right;\n",
       "    }\n",
       "</style>\n",
       "<table border=\"1\" class=\"dataframe\">\n",
       "  <thead>\n",
       "    <tr style=\"text-align: right;\">\n",
       "      <th></th>\n",
       "      <th>image_tag</th>\n",
       "      <th>lang</th>\n",
       "      <th>diff_url</th>\n",
       "      <th>repo</th>\n",
       "      <th>ci_service</th>\n",
       "      <th>metrics.changes</th>\n",
       "      <th>reproducibility_status.status</th>\n",
       "      <th>failed_job.job_id</th>\n",
       "      <th>failed_job.build_id</th>\n",
       "      <th>failed_job.num_tests_run</th>\n",
       "      <th>failed_job.num_tests_failed</th>\n",
       "      <th>failed_job.trigger_sha</th>\n",
       "      <th>passed_job.trigger_sha</th>\n",
       "      <th>classification.build</th>\n",
       "      <th>classification.code</th>\n",
       "      <th>classification.exceptions</th>\n",
       "      <th>classification.test</th>\n",
       "    </tr>\n",
       "  </thead>\n",
       "  <tbody>\n",
       "    <tr>\n",
       "      <th>2662</th>\n",
       "      <td>bobocode-projects-java-fundamentals-exercises-...</td>\n",
       "      <td>Java</td>\n",
       "      <td>https://github.com/bobocode-projects/java-fund...</td>\n",
       "      <td>bobocode-projects/java-fundamentals-exercises</td>\n",
       "      <td>github</td>\n",
       "      <td>2</td>\n",
       "      <td>Reproducible</td>\n",
       "      <td>7068728014</td>\n",
       "      <td>2567759045</td>\n",
       "      <td>180</td>\n",
       "      <td>1</td>\n",
       "      <td>9119545c430ed7119ad0b4e48cefacbeef41814c</td>\n",
       "      <td>af77c7c97f54fba8ccc68b088a6f4566ce0c3db0</td>\n",
       "      <td>No</td>\n",
       "      <td>Yes</td>\n",
       "      <td>[AssertionError]</td>\n",
       "      <td>No</td>\n",
       "    </tr>\n",
       "  </tbody>\n",
       "</table>\n",
       "</div>"
      ],
      "text/plain": [
       "                                              image_tag  lang  \\\n",
       "2662  bobocode-projects-java-fundamentals-exercises-...  Java   \n",
       "\n",
       "                                               diff_url  \\\n",
       "2662  https://github.com/bobocode-projects/java-fund...   \n",
       "\n",
       "                                               repo ci_service  \\\n",
       "2662  bobocode-projects/java-fundamentals-exercises     github   \n",
       "\n",
       "      metrics.changes reproducibility_status.status  failed_job.job_id  \\\n",
       "2662                2                  Reproducible         7068728014   \n",
       "\n",
       "      failed_job.build_id  failed_job.num_tests_run  \\\n",
       "2662           2567759045                       180   \n",
       "\n",
       "      failed_job.num_tests_failed                    failed_job.trigger_sha  \\\n",
       "2662                            1  9119545c430ed7119ad0b4e48cefacbeef41814c   \n",
       "\n",
       "                        passed_job.trigger_sha classification.build  \\\n",
       "2662  af77c7c97f54fba8ccc68b088a6f4566ce0c3db0                   No   \n",
       "\n",
       "     classification.code classification.exceptions classification.test  \n",
       "2662                 Yes          [AssertionError]                  No  "
      ]
     },
     "execution_count": 23,
     "metadata": {},
     "output_type": "execute_result"
    }
   ],
   "source": [
    "df_flat[df_flat['failed_job.job_id'] == 7068728014]"
   ]
  },
  {
   "cell_type": "code",
   "execution_count": 24,
   "id": "fa8f107b-e28d-44bb-9794-0907941dda68",
   "metadata": {},
   "outputs": [
    {
     "name": "stdout",
     "output_type": "stream",
     "text": [
      "True\n"
     ]
    }
   ],
   "source": [
    "for record in data:\n",
    "    if record.get('failed_job').get('job_id') == 7068728014:\n",
    "        print(True)"
   ]
  },
  {
   "cell_type": "code",
   "execution_count": 25,
   "id": "bc26068d-17ed-41bc-9732-5db8d398d44f",
   "metadata": {},
   "outputs": [],
   "source": [
    "def clone_repo_at_commit(repo_url, repo, failed_dest_dir, passed_dest_dir,  failed_commit_sha, passed_commit_sha, output_file_path):\n",
    "    print(repo_url, repo.split('/')[1], failed_dest_dir, passed_dest_dir, output_file_path)\n",
    "    subprocess.run([\"git\", \"clone\", repo_url, '/tmp/' + repo.split('/')[1] + '/Buggy'])\n",
    "    os.chdir('/tmp/' + repo.split('/')[1] + '/Buggy')\n",
    "    subprocess.run([\"git\", \"reset\", \"--hard\", failed_commit_sha])\n",
    "    shutil.copytree('/tmp/' + repo.split('/')[1] + '/Buggy', failed_dest_dir, ignore=shutil.ignore_patterns('.git*'))\n",
    "\n",
    "    subprocess.run([\"git\", \"clone\", repo_url, '/tmp/' + repo.split('/')[1] + '/Patched'])\n",
    "    os.chdir('/tmp/' + repo.split('/')[1] + '/Patched')\n",
    "    subprocess.run([\"git\", \"reset\", \"--hard\", passed_commit_sha])\n",
    "    shutil.copytree('/tmp/' + repo.split('/')[1] + '/Patched', passed_dest_dir, ignore=shutil.ignore_patterns('.git*'))\n",
    "\n",
    "    with open(output_file_path, 'w') as output_file:\n",
    "            subprocess.run(['git', 'diff', failed_dest_dir, passed_dest_dir], stdout=output_file)\n",
    "\n",
    "    subprocess.run([\"rm\", \"-rf\", \"/tmp/\" + repo.split('/')[1]])\n",
    "    \n",
    "    "
   ]
  },
  {
   "cell_type": "code",
   "execution_count": 26,
   "id": "ad49881e-b5e6-45b0-bf9d-d30b129d7174",
   "metadata": {},
   "outputs": [],
   "source": [
    "input = [\"apache-shiro-16456433682\", \n",
    "    \"bobocode-projects-java-fundamentals-exercises-7068728014\",\n",
    "    \"alibaba-fastjson2-9745791070\",\n",
    "    \"apache-servicecomb-java-chassis-9220678028\",\n",
    "    \"apache-shardingsphere-15043584565\",\n",
    "    \"apache-shardingsphere-14283109357\",\n",
    "    # \"square-okhttp-397194600\",\n",
    "    #\"TheAlgorithms-Python-17493072334\",\n",
    "    \"kevin218-Eureka-12929091479\",\n",
    "    \"spesmilo-electrum-293054995\",\n",
    "    \"swagger-api-swagger-core-245823910\",\n",
    "    # \"apache-jackrabbit-oak-337535542\",\n",
    "    # \"spring-projects-spring-security-oauth-451380564\",\n",
    "    # \"spring-projects-spring-security-oauth-451380565\",\n",
    "    \"paramiko-paramiko-88695199\",\n",
    "    # \"languagetool-org-languagetool-546883807\",\n",
    "    \"traccar-traccar-9287925064\",\n",
    "    \"joel-costigliola-assertj-core-309871149\",\n",
    "    \"EducationalTestingService-skll-308660061\",\n",
    "    \"EducationalTestingService-skll-308660063\",\n",
    "    #\"debezium-debezium-15920299506\",\n",
    "    #\"IHVH-OEMIB_PI01_19_TBOT-12579424042\",\n",
    "    #\"LASY-org-lasy-13665357123\",\n",
    "    #\"thm-projects-arsnova-backend-349234145\",\n",
    "    #\"aws-aws-sam-cli-16196164089\",\n",
    "    #\"graphhopper-graphhopper-221837923\",\n",
    "    # \"SpigotMC-BungeeCord-10806539885\",\n",
    "    # \"SpigotMC-BungeeCord-10806539922\",\n",
    "    # \"SpigotMC-BungeeCord-10806539963\",\n",
    "    \"alibaba-fastjson2-9745790591\",\n",
    "    \"alibaba-fastjson2-9745790836\",\n",
    "    #\"yt-dlp-yt-dlp-16047395836\",\n",
    "    #\"IQSS-dataverse-402758963\",\n",
    "    \"EducationalTestingService-skll-308660060\",\n",
    "    #\"igniterealtime-Openfire-16538544714\",\n",
    "    #\"NitorCreations-nflow-654160011\",\n",
    "    # \"Adobe-Consulting-Services-acs-aem-commons-439308122\",\n",
    "    \"saulpw-visidata-17624006231\",\n",
    "    \"apache-dubbo-416671625\"]"
   ]
  },
  {
   "cell_type": "code",
   "execution_count": 16,
   "id": "4f5711a1-126a-40f4-8d51-6e63d7efc93a",
   "metadata": {},
   "outputs": [],
   "source": [
    "input = [\"EducationalTestingService-skll-308660060\"]"
   ]
  },
  {
   "cell_type": "code",
   "execution_count": 27,
   "id": "a4063681-b2d5-4510-8906-2a6ba54412a3",
   "metadata": {},
   "outputs": [],
   "source": [
    "input = [i.split('-')[1:] for i in input]"
   ]
  },
  {
   "cell_type": "code",
   "execution_count": 28,
   "id": "ae137e19-ee57-47e0-a71f-d531a3e15b6f",
   "metadata": {},
   "outputs": [],
   "source": [
    "job_name = ['-'.join(sublist[:]) for sublist in input]\n",
    "job_id = [int(sublist[-1]) for sublist in input]"
   ]
  },
  {
   "cell_type": "code",
   "execution_count": 29,
   "id": "d56e1dd6-8813-42da-a78c-5a51f5951b7f",
   "metadata": {},
   "outputs": [],
   "source": [
    "input = {job_name[i]: job_id[i] for i in range(len(job_name))}"
   ]
  },
  {
   "cell_type": "code",
   "execution_count": 30,
   "id": "b76e0b1b-ea57-42aa-8956-537ccee5f89f",
   "metadata": {},
   "outputs": [
    {
     "name": "stdout",
     "output_type": "stream",
     "text": [
      "https://github.com/spesmilo/electrum.git electrum /home/ashwin/UIUC/CS527/Project/CS527-Project/Bugs/BugSwarm/electrum-293054995/Buggy-version /home/ashwin/UIUC/CS527/Project/CS527-Project/Bugs/BugSwarm/electrum-293054995/Patched-Version /home/ashwin/UIUC/CS527/Project/CS527-Project/Bugs/BugSwarm/electrum-293054995/Diff\n"
     ]
    },
    {
     "name": "stderr",
     "output_type": "stream",
     "text": [
      "Cloning into '/tmp/electrum/Buggy'...\n"
     ]
    },
    {
     "name": "stdout",
     "output_type": "stream",
     "text": [
      "HEAD is now at a5e2b18af Merge pull request #3122 from SomberNight/test_transaction_txid\n"
     ]
    },
    {
     "name": "stderr",
     "output_type": "stream",
     "text": [
      "Cloning into '/tmp/electrum/Patched'...\n"
     ]
    },
    {
     "name": "stdout",
     "output_type": "stream",
     "text": [
      "HEAD is now at ffc0cc3c1 Merge pull request #3123 from SomberNight/fix_parse_witness_coinbase\n",
      "https://github.com/joel-costigliola/assertj-core.git assertj-core /home/ashwin/UIUC/CS527/Project/CS527-Project/Bugs/BugSwarm/costigliola-assertj-core-309871149/Buggy-version /home/ashwin/UIUC/CS527/Project/CS527-Project/Bugs/BugSwarm/costigliola-assertj-core-309871149/Patched-Version /home/ashwin/UIUC/CS527/Project/CS527-Project/Bugs/BugSwarm/costigliola-assertj-core-309871149/Diff\n"
     ]
    },
    {
     "name": "stderr",
     "output_type": "stream",
     "text": [
      "Cloning into '/tmp/assertj-core/Buggy'...\n",
      "fatal: Could not parse object 'f3baca43c21cbc10b90f1edf45ef2b63bebe3ab6'.\n",
      "Cloning into '/tmp/assertj-core/Patched'...\n"
     ]
    },
    {
     "name": "stdout",
     "output_type": "stream",
     "text": [
      "HEAD is now at 5bdd701d2 Use a TreeMap for default comparators by field/property to have reliable ordering when displaying used comparators.\n"
     ]
    },
    {
     "name": "stderr",
     "output_type": "stream",
     "text": [
      "warning: exhaustive rename detection was skipped due to too many files.\n",
      "warning: you may want to set your diff.renameLimit variable to at least 3714 and retry the command.\n",
      "Cloning into '/tmp/paramiko/Buggy'...\n"
     ]
    },
    {
     "name": "stdout",
     "output_type": "stream",
     "text": [
      "https://github.com/paramiko/paramiko.git paramiko /home/ashwin/UIUC/CS527/Project/CS527-Project/Bugs/BugSwarm/paramiko-88695199/Buggy-version /home/ashwin/UIUC/CS527/Project/CS527-Project/Bugs/BugSwarm/paramiko-88695199/Patched-Version /home/ashwin/UIUC/CS527/Project/CS527-Project/Bugs/BugSwarm/paramiko-88695199/Diff\n",
      "HEAD is now at 347f948b Fix incorrect hash algorithm selection during kex key generation.\n"
     ]
    },
    {
     "name": "stderr",
     "output_type": "stream",
     "text": [
      "Cloning into '/tmp/paramiko/Patched'...\n"
     ]
    },
    {
     "name": "stdout",
     "output_type": "stream",
     "text": [
      "HEAD is now at aeb28073 Fallback to sha1 in _compute_key\n",
      "https://github.com/swagger-api/swagger-core.git swagger-core /home/ashwin/UIUC/CS527/Project/CS527-Project/Bugs/BugSwarm/api-swagger-core-245823910/Buggy-version /home/ashwin/UIUC/CS527/Project/CS527-Project/Bugs/BugSwarm/api-swagger-core-245823910/Patched-Version /home/ashwin/UIUC/CS527/Project/CS527-Project/Bugs/BugSwarm/api-swagger-core-245823910/Diff\n"
     ]
    },
    {
     "name": "stderr",
     "output_type": "stream",
     "text": [
      "Cloning into '/tmp/swagger-core/Buggy'...\n"
     ]
    },
    {
     "name": "stdout",
     "output_type": "stream",
     "text": [
      "HEAD is now at 2016ab0d3 Adding getOperations and getOperationMap to PathItem Object\n"
     ]
    },
    {
     "name": "stderr",
     "output_type": "stream",
     "text": [
      "Cloning into '/tmp/swagger-core/Patched'...\n"
     ]
    },
    {
     "name": "stdout",
     "output_type": "stream",
     "text": [
      "HEAD is now at e3858038c Adding readOperations and readOperationMap to PathItem Object\n",
      "https://github.com/apache/dubbo.git dubbo /home/ashwin/UIUC/CS527/Project/CS527-Project/Bugs/BugSwarm/dubbo-416671625/Buggy-version /home/ashwin/UIUC/CS527/Project/CS527-Project/Bugs/BugSwarm/dubbo-416671625/Patched-Version /home/ashwin/UIUC/CS527/Project/CS527-Project/Bugs/BugSwarm/dubbo-416671625/Diff\n"
     ]
    },
    {
     "name": "stderr",
     "output_type": "stream",
     "text": [
      "Cloning into '/tmp/dubbo/Buggy'...\n",
      "fatal: Could not parse object 'cbb2aaf25cdace6bfe99f6b894d5d4e24071675a'.\n",
      "Cloning into '/tmp/dubbo/Patched'...\n",
      "fatal: Could not parse object '2ff8b3497ea1103d9a2118e27b8309b1da22edc4'.\n"
     ]
    },
    {
     "name": "stdout",
     "output_type": "stream",
     "text": [
      "https://github.com/EducationalTestingService/skll.git skll /home/ashwin/UIUC/CS527/Project/CS527-Project/Bugs/BugSwarm/skll-308660060/Buggy-version /home/ashwin/UIUC/CS527/Project/CS527-Project/Bugs/BugSwarm/skll-308660060/Patched-Version /home/ashwin/UIUC/CS527/Project/CS527-Project/Bugs/BugSwarm/skll-308660060/Diff\n"
     ]
    },
    {
     "name": "stderr",
     "output_type": "stream",
     "text": [
      "Cloning into '/tmp/skll/Buggy'...\n"
     ]
    },
    {
     "name": "stdout",
     "output_type": "stream",
     "text": [
      "HEAD is now at 714e6a2c updated docstrings for config.py, as well as minor fix to learner.py\n"
     ]
    },
    {
     "name": "stderr",
     "output_type": "stream",
     "text": [
      "Cloning into '/tmp/skll/Patched'...\n"
     ]
    },
    {
     "name": "stdout",
     "output_type": "stream",
     "text": [
      "HEAD is now at cae169f3 removing non-ASCII character in docstring so 2.7 build will pass\n",
      "https://github.com/EducationalTestingService/skll.git skll /home/ashwin/UIUC/CS527/Project/CS527-Project/Bugs/BugSwarm/skll-308660061/Buggy-version /home/ashwin/UIUC/CS527/Project/CS527-Project/Bugs/BugSwarm/skll-308660061/Patched-Version /home/ashwin/UIUC/CS527/Project/CS527-Project/Bugs/BugSwarm/skll-308660061/Diff\n"
     ]
    },
    {
     "name": "stderr",
     "output_type": "stream",
     "text": [
      "Cloning into '/tmp/skll/Buggy'...\n"
     ]
    },
    {
     "name": "stdout",
     "output_type": "stream",
     "text": [
      "HEAD is now at 714e6a2c updated docstrings for config.py, as well as minor fix to learner.py\n"
     ]
    },
    {
     "name": "stderr",
     "output_type": "stream",
     "text": [
      "Cloning into '/tmp/skll/Patched'...\n"
     ]
    },
    {
     "name": "stdout",
     "output_type": "stream",
     "text": [
      "HEAD is now at cae169f3 removing non-ASCII character in docstring so 2.7 build will pass\n",
      "https://github.com/EducationalTestingService/skll.git skll /home/ashwin/UIUC/CS527/Project/CS527-Project/Bugs/BugSwarm/skll-308660063/Buggy-version /home/ashwin/UIUC/CS527/Project/CS527-Project/Bugs/BugSwarm/skll-308660063/Patched-Version /home/ashwin/UIUC/CS527/Project/CS527-Project/Bugs/BugSwarm/skll-308660063/Diff\n"
     ]
    },
    {
     "name": "stderr",
     "output_type": "stream",
     "text": [
      "Cloning into '/tmp/skll/Buggy'...\n"
     ]
    },
    {
     "name": "stdout",
     "output_type": "stream",
     "text": [
      "HEAD is now at 714e6a2c updated docstrings for config.py, as well as minor fix to learner.py\n"
     ]
    },
    {
     "name": "stderr",
     "output_type": "stream",
     "text": [
      "Cloning into '/tmp/skll/Patched'...\n"
     ]
    },
    {
     "name": "stdout",
     "output_type": "stream",
     "text": [
      "HEAD is now at cae169f3 removing non-ASCII character in docstring so 2.7 build will pass\n",
      "https://github.com/traccar/traccar.git traccar /home/ashwin/UIUC/CS527/Project/CS527-Project/Bugs/BugSwarm/traccar-9287925064/Buggy-version /home/ashwin/UIUC/CS527/Project/CS527-Project/Bugs/BugSwarm/traccar-9287925064/Patched-Version /home/ashwin/UIUC/CS527/Project/CS527-Project/Bugs/BugSwarm/traccar-9287925064/Diff\n"
     ]
    },
    {
     "name": "stderr",
     "output_type": "stream",
     "text": [
      "Cloning into '/tmp/traccar/Buggy'...\n"
     ]
    },
    {
     "name": "stdout",
     "output_type": "stream",
     "text": [
      "HEAD is now at 9c03a0505 Reuse checksum code\n"
     ]
    },
    {
     "name": "stderr",
     "output_type": "stream",
     "text": [
      "Cloning into '/tmp/traccar/Patched'...\n"
     ]
    },
    {
     "name": "stdout",
     "output_type": "stream",
     "text": [
      "HEAD is now at fdd52edc7 Fix response\n",
      "https://github.com/kevin218/Eureka.git Eureka /home/ashwin/UIUC/CS527/Project/CS527-Project/Bugs/BugSwarm/Eureka-12929091479/Buggy-version /home/ashwin/UIUC/CS527/Project/CS527-Project/Bugs/BugSwarm/Eureka-12929091479/Patched-Version /home/ashwin/UIUC/CS527/Project/CS527-Project/Bugs/BugSwarm/Eureka-12929091479/Diff\n"
     ]
    },
    {
     "name": "stderr",
     "output_type": "stream",
     "text": [
      "Cloning into '/tmp/Eureka/Buggy'...\n",
      "Updating files: 100% (269/269), done.\n"
     ]
    },
    {
     "name": "stdout",
     "output_type": "stream",
     "text": [
      "HEAD is now at 9aad140c Add check for meta.photometry before plotting tilt_events\n"
     ]
    },
    {
     "name": "stderr",
     "output_type": "stream",
     "text": [
      "Cloning into '/tmp/Eureka/Patched'...\n",
      "Updating files: 100% (269/269), done.\n"
     ]
    },
    {
     "name": "stdout",
     "output_type": "stream",
     "text": [
      "HEAD is now at 2dc24957 Bug fix\n",
      "https://github.com/alibaba/fastjson2.git fastjson2 /home/ashwin/UIUC/CS527/Project/CS527-Project/Bugs/BugSwarm/fastjson2-9745790591/Buggy-version /home/ashwin/UIUC/CS527/Project/CS527-Project/Bugs/BugSwarm/fastjson2-9745790591/Patched-Version /home/ashwin/UIUC/CS527/Project/CS527-Project/Bugs/BugSwarm/fastjson2-9745790591/Diff\n"
     ]
    },
    {
     "name": "stderr",
     "output_type": "stream",
     "text": [
      "Cloning into '/tmp/fastjson2/Buggy'...\n",
      "Updating files: 100% (4386/4386), done.\n"
     ]
    },
    {
     "name": "stdout",
     "output_type": "stream",
     "text": [
      "HEAD is now at 2fb2c98a5 JSONPath support \"ends with\" operator\n"
     ]
    },
    {
     "name": "stderr",
     "output_type": "stream",
     "text": [
      "Cloning into '/tmp/fastjson2/Patched'...\n",
      "Updating files: 100% (4386/4386), done.\n"
     ]
    },
    {
     "name": "stdout",
     "output_type": "stream",
     "text": [
      "HEAD is now at ac8d25f4c SupportSmartMatch support Boolean Field \"is\" prefix\n",
      "https://github.com/alibaba/fastjson2.git fastjson2 /home/ashwin/UIUC/CS527/Project/CS527-Project/Bugs/BugSwarm/fastjson2-9745790836/Buggy-version /home/ashwin/UIUC/CS527/Project/CS527-Project/Bugs/BugSwarm/fastjson2-9745790836/Patched-Version /home/ashwin/UIUC/CS527/Project/CS527-Project/Bugs/BugSwarm/fastjson2-9745790836/Diff\n"
     ]
    },
    {
     "name": "stderr",
     "output_type": "stream",
     "text": [
      "Cloning into '/tmp/fastjson2/Buggy'...\n"
     ]
    },
    {
     "name": "stdout",
     "output_type": "stream",
     "text": [
      "HEAD is now at 2fb2c98a5 JSONPath support \"ends with\" operator\n"
     ]
    },
    {
     "name": "stderr",
     "output_type": "stream",
     "text": [
      "Cloning into '/tmp/fastjson2/Patched'...\n"
     ]
    },
    {
     "name": "stdout",
     "output_type": "stream",
     "text": [
      "HEAD is now at ac8d25f4c SupportSmartMatch support Boolean Field \"is\" prefix\n",
      "https://github.com/alibaba/fastjson2.git fastjson2 /home/ashwin/UIUC/CS527/Project/CS527-Project/Bugs/BugSwarm/fastjson2-9745791070/Buggy-version /home/ashwin/UIUC/CS527/Project/CS527-Project/Bugs/BugSwarm/fastjson2-9745791070/Patched-Version /home/ashwin/UIUC/CS527/Project/CS527-Project/Bugs/BugSwarm/fastjson2-9745791070/Diff\n"
     ]
    },
    {
     "name": "stderr",
     "output_type": "stream",
     "text": [
      "Cloning into '/tmp/fastjson2/Buggy'...\n"
     ]
    },
    {
     "name": "stdout",
     "output_type": "stream",
     "text": [
      "HEAD is now at 2fb2c98a5 JSONPath support \"ends with\" operator\n"
     ]
    },
    {
     "name": "stderr",
     "output_type": "stream",
     "text": [
      "Cloning into '/tmp/fastjson2/Patched'...\n"
     ]
    },
    {
     "name": "stdout",
     "output_type": "stream",
     "text": [
      "HEAD is now at ac8d25f4c SupportSmartMatch support Boolean Field \"is\" prefix\n",
      "https://github.com/apache/servicecomb-java-chassis.git servicecomb-java-chassis /home/ashwin/UIUC/CS527/Project/CS527-Project/Bugs/BugSwarm/servicecomb-java-chassis-9220678028/Buggy-version /home/ashwin/UIUC/CS527/Project/CS527-Project/Bugs/BugSwarm/servicecomb-java-chassis-9220678028/Patched-Version /home/ashwin/UIUC/CS527/Project/CS527-Project/Bugs/BugSwarm/servicecomb-java-chassis-9220678028/Diff\n"
     ]
    },
    {
     "name": "stderr",
     "output_type": "stream",
     "text": [
      "Cloning into '/tmp/servicecomb-java-chassis/Buggy'...\n",
      "fatal: Could not parse object 'f21f483658e51b5ea2dc3a470d0c9b49f4b6eac6'.\n",
      "Cloning into '/tmp/servicecomb-java-chassis/Patched'...\n",
      "fatal: Could not parse object '970d95d74ba710abac8b41ddb1a0fee604a5e2b1'.\n"
     ]
    },
    {
     "name": "stdout",
     "output_type": "stream",
     "text": [
      "https://github.com/bobocode-projects/java-fundamentals-exercises.git java-fundamentals-exercises /home/ashwin/UIUC/CS527/Project/CS527-Project/Bugs/BugSwarm/projects-java-fundamentals-exercises-7068728014/Buggy-version /home/ashwin/UIUC/CS527/Project/CS527-Project/Bugs/BugSwarm/projects-java-fundamentals-exercises-7068728014/Patched-Version /home/ashwin/UIUC/CS527/Project/CS527-Project/Bugs/BugSwarm/projects-java-fundamentals-exercises-7068728014/Diff\n"
     ]
    },
    {
     "name": "stderr",
     "output_type": "stream",
     "text": [
      "Cloning into '/tmp/java-fundamentals-exercises/Buggy'...\n"
     ]
    },
    {
     "name": "stdout",
     "output_type": "stream",
     "text": [
      "HEAD is now at 9119545 Merge branch 'main' into completed\n"
     ]
    },
    {
     "name": "stderr",
     "output_type": "stream",
     "text": [
      "Cloning into '/tmp/java-fundamentals-exercises/Patched'...\n"
     ]
    },
    {
     "name": "stdout",
     "output_type": "stream",
     "text": [
      "HEAD is now at af77c7c Merge pull request #125 from andrii-k6a/linked-list-exercise-bug-fix-completed\n",
      "https://github.com/apache/shardingsphere.git shardingsphere /home/ashwin/UIUC/CS527/Project/CS527-Project/Bugs/BugSwarm/shardingsphere-15043584565/Buggy-version /home/ashwin/UIUC/CS527/Project/CS527-Project/Bugs/BugSwarm/shardingsphere-15043584565/Patched-Version /home/ashwin/UIUC/CS527/Project/CS527-Project/Bugs/BugSwarm/shardingsphere-15043584565/Diff\n"
     ]
    },
    {
     "name": "stderr",
     "output_type": "stream",
     "text": [
      "Cloning into '/tmp/shardingsphere/Buggy'...\n",
      "Updating files: 100% (14293/14293), done.\n",
      "fatal: Could not parse object 'e3970abf4923d84e4ace01f5b432baa6e11dd2ef'.\n",
      "Cloning into '/tmp/shardingsphere/Patched'...\n",
      "Updating files: 100% (14293/14293), done.\n",
      "fatal: Could not parse object '3278f7de5a6c42f97513d831af7ec08d50a30837'.\n"
     ]
    },
    {
     "name": "stdout",
     "output_type": "stream",
     "text": [
      "https://github.com/apache/shardingsphere.git shardingsphere /home/ashwin/UIUC/CS527/Project/CS527-Project/Bugs/BugSwarm/shardingsphere-14283109357/Buggy-version /home/ashwin/UIUC/CS527/Project/CS527-Project/Bugs/BugSwarm/shardingsphere-14283109357/Patched-Version /home/ashwin/UIUC/CS527/Project/CS527-Project/Bugs/BugSwarm/shardingsphere-14283109357/Diff\n"
     ]
    },
    {
     "name": "stderr",
     "output_type": "stream",
     "text": [
      "Cloning into '/tmp/shardingsphere/Buggy'...\n",
      "Updating files: 100% (14293/14293), done.\n",
      "fatal: Could not parse object '04f2f2e52e1c52ca8325574567effc08ee107984'.\n",
      "Cloning into '/tmp/shardingsphere/Patched'...\n",
      "Updating files: 100% (14293/14293), done.\n",
      "fatal: Could not parse object 'b0ac4151b514b903f1c108a8391c49918a91f118'.\n"
     ]
    },
    {
     "name": "stdout",
     "output_type": "stream",
     "text": [
      "https://github.com/apache/shiro.git shiro /home/ashwin/UIUC/CS527/Project/CS527-Project/Bugs/BugSwarm/shiro-16456433682/Buggy-version /home/ashwin/UIUC/CS527/Project/CS527-Project/Bugs/BugSwarm/shiro-16456433682/Patched-Version /home/ashwin/UIUC/CS527/Project/CS527-Project/Bugs/BugSwarm/shiro-16456433682/Diff\n"
     ]
    },
    {
     "name": "stderr",
     "output_type": "stream",
     "text": [
      "Cloning into '/tmp/shiro/Buggy'...\n"
     ]
    },
    {
     "name": "stdout",
     "output_type": "stream",
     "text": [
      "HEAD is now at 4ffc64cc 1048: Updated tests for cookie.\n"
     ]
    },
    {
     "name": "stderr",
     "output_type": "stream",
     "text": [
      "Cloning into '/tmp/shiro/Patched'...\n"
     ]
    },
    {
     "name": "stdout",
     "output_type": "stream",
     "text": [
      "HEAD is now at f0cc8d54 Revert \"1048: Updated tests for cookie.\"\n",
      "https://github.com/saulpw/visidata.git visidata /home/ashwin/UIUC/CS527/Project/CS527-Project/Bugs/BugSwarm/visidata-17624006231/Buggy-version /home/ashwin/UIUC/CS527/Project/CS527-Project/Bugs/BugSwarm/visidata-17624006231/Patched-Version /home/ashwin/UIUC/CS527/Project/CS527-Project/Bugs/BugSwarm/visidata-17624006231/Diff\n"
     ]
    },
    {
     "name": "stderr",
     "output_type": "stream",
     "text": [
      "Cloning into '/tmp/visidata/Buggy'...\n"
     ]
    },
    {
     "name": "stdout",
     "output_type": "stream",
     "text": [
      "HEAD is now at 970d3d67 [csv] lazy import csv to support monkey-patching #1559\n"
     ]
    },
    {
     "name": "stderr",
     "output_type": "stream",
     "text": [
      "Cloning into '/tmp/visidata/Patched'...\n"
     ]
    },
    {
     "name": "stdout",
     "output_type": "stream",
     "text": [
      "HEAD is now at f7a8dd96 [import-] fix build with missing options\n"
     ]
    }
   ],
   "source": [
    "for record in data:\n",
    "    if record.get('failed_job').get('job_id') in input.values():\n",
    "        failed_job = record.get(\"failed_job\")\n",
    "        root_dir = '/home/ashwin/UIUC/CS527/Project/CS527-Project/Bugs/BugSwarm'\n",
    "        passed_job = record.get(\"passed_job\")\n",
    "        repo = record.get(\"repo\")\n",
    "        base_repo_url = 'https://github.com/'\n",
    "        diff_url = record.get(\"diff_url\")\n",
    "        dest_dir = os.path.join(root_dir, list(input.keys())[list(input.values()).index(record.get('failed_job').get('job_id'))])\n",
    "        os.mkdir(dest_dir)           \n",
    "        os.chdir(dest_dir)\n",
    "        \n",
    "        repo_url = f\"{base_repo_url}{repo}.git\"\n",
    "        if failed_job:\n",
    "            failed_trigger_sha = failed_job.get(\"trigger_sha\")\n",
    "            failed_dest_dir = dest_dir + \"/Buggy-version\"\n",
    "        \n",
    "        if passed_job:\n",
    "            passed_trigger_sha = passed_job.get(\"trigger_sha\")\n",
    "            passed_dest_dir = dest_dir + \"/Patched-Version\"\n",
    "    \n",
    "        output_file_path = dest_dir + f\"/Diff\"\n",
    "        clone_repo_at_commit(repo_url, repo, failed_dest_dir, passed_dest_dir, failed_trigger_sha, passed_trigger_sha, output_file_path)\n",
    "       "
   ]
  },
  {
   "cell_type": "code",
   "execution_count": null,
   "id": "369701a5",
   "metadata": {},
   "outputs": [],
   "source": []
  }
 ],
 "metadata": {
  "kernelspec": {
   "display_name": "Python 3 (ipykernel)",
   "language": "python",
   "name": "python3"
  },
  "language_info": {
   "codemirror_mode": {
    "name": "ipython",
    "version": 3
   },
   "file_extension": ".py",
   "mimetype": "text/x-python",
   "name": "python",
   "nbconvert_exporter": "python",
   "pygments_lexer": "ipython3",
   "version": "3.10.12"
  }
 },
 "nbformat": 4,
 "nbformat_minor": 5
}
