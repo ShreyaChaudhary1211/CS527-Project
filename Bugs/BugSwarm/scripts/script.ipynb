{
 "cells": [
  {
   "cell_type": "code",
   "execution_count": 1,
   "id": "28322727-c5fd-451a-b098-10a2833f5b6d",
   "metadata": {},
   "outputs": [],
   "source": [
    "import pandas as pd\n",
    "from pandas import json_normalize\n",
    "import json\n",
    "import requests\n",
    "import os\n",
    "from unidiff import PatchSet\n",
    "import git\n",
    "from io import StringIO\n",
    "import shutil\n",
    "from git import Repo\n",
    "import subprocess\n",
    "import filecmp"
   ]
  },
  {
   "cell_type": "code",
   "execution_count": 2,
   "id": "71dd9116-9176-4429-ad96-4ec394733e57",
   "metadata": {},
   "outputs": [],
   "source": [
    "with open(\"/home/ashwin/UIUC/CS527/Project/CS527-Project/Bugs/BugSwarm/Export.json\", \"r\") as file:\n",
    "    data = json.load(file)"
   ]
  },
  {
   "cell_type": "code",
   "execution_count": 3,
   "id": "c321addf-ac68-4507-b50c-2e12a4c9dd5f",
   "metadata": {},
   "outputs": [],
   "source": [
    "# Assuming you already loaded the JSON data into a DataFrame\n",
    "df = pd.read_json('/home/ashwin/UIUC/CS527/Project/CS527-Project/Bugs/BugSwarm/Export.json')\n",
    "json_struct = json.loads(df.to_json(orient=\"records\"))    \n",
    "\n",
    "# Now, use json_normalize directly\n",
    "df_flat = json_normalize(json_struct)"
   ]
  },
  {
   "cell_type": "code",
   "execution_count": 4,
   "id": "9faeb2a7-de7b-46af-9fcf-5cd75613913e",
   "metadata": {},
   "outputs": [
    {
     "data": {
      "text/html": [
       "<div>\n",
       "<style scoped>\n",
       "    .dataframe tbody tr th:only-of-type {\n",
       "        vertical-align: middle;\n",
       "    }\n",
       "\n",
       "    .dataframe tbody tr th {\n",
       "        vertical-align: top;\n",
       "    }\n",
       "\n",
       "    .dataframe thead th {\n",
       "        text-align: right;\n",
       "    }\n",
       "</style>\n",
       "<table border=\"1\" class=\"dataframe\">\n",
       "  <thead>\n",
       "    <tr style=\"text-align: right;\">\n",
       "      <th></th>\n",
       "      <th>image_tag</th>\n",
       "      <th>lang</th>\n",
       "      <th>diff_url</th>\n",
       "      <th>repo</th>\n",
       "      <th>ci_service</th>\n",
       "      <th>metrics.changes</th>\n",
       "      <th>reproducibility_status.status</th>\n",
       "      <th>failed_job.job_id</th>\n",
       "      <th>failed_job.build_id</th>\n",
       "      <th>failed_job.num_tests_run</th>\n",
       "      <th>failed_job.num_tests_failed</th>\n",
       "      <th>failed_job.trigger_sha</th>\n",
       "      <th>passed_job.trigger_sha</th>\n",
       "      <th>classification.build</th>\n",
       "      <th>classification.code</th>\n",
       "      <th>classification.exceptions</th>\n",
       "      <th>classification.test</th>\n",
       "    </tr>\n",
       "  </thead>\n",
       "  <tbody>\n",
       "    <tr>\n",
       "      <th>2662</th>\n",
       "      <td>bobocode-projects-java-fundamentals-exercises-...</td>\n",
       "      <td>Java</td>\n",
       "      <td>https://github.com/bobocode-projects/java-fund...</td>\n",
       "      <td>bobocode-projects/java-fundamentals-exercises</td>\n",
       "      <td>github</td>\n",
       "      <td>2</td>\n",
       "      <td>Reproducible</td>\n",
       "      <td>7068728014</td>\n",
       "      <td>2567759045</td>\n",
       "      <td>180</td>\n",
       "      <td>1</td>\n",
       "      <td>9119545c430ed7119ad0b4e48cefacbeef41814c</td>\n",
       "      <td>af77c7c97f54fba8ccc68b088a6f4566ce0c3db0</td>\n",
       "      <td>No</td>\n",
       "      <td>Yes</td>\n",
       "      <td>[AssertionError]</td>\n",
       "      <td>No</td>\n",
       "    </tr>\n",
       "  </tbody>\n",
       "</table>\n",
       "</div>"
      ],
      "text/plain": [
       "                                              image_tag  lang  \\\n",
       "2662  bobocode-projects-java-fundamentals-exercises-...  Java   \n",
       "\n",
       "                                               diff_url  \\\n",
       "2662  https://github.com/bobocode-projects/java-fund...   \n",
       "\n",
       "                                               repo ci_service  \\\n",
       "2662  bobocode-projects/java-fundamentals-exercises     github   \n",
       "\n",
       "      metrics.changes reproducibility_status.status  failed_job.job_id  \\\n",
       "2662                2                  Reproducible         7068728014   \n",
       "\n",
       "      failed_job.build_id  failed_job.num_tests_run  \\\n",
       "2662           2567759045                       180   \n",
       "\n",
       "      failed_job.num_tests_failed                    failed_job.trigger_sha  \\\n",
       "2662                            1  9119545c430ed7119ad0b4e48cefacbeef41814c   \n",
       "\n",
       "                        passed_job.trigger_sha classification.build  \\\n",
       "2662  af77c7c97f54fba8ccc68b088a6f4566ce0c3db0                   No   \n",
       "\n",
       "     classification.code classification.exceptions classification.test  \n",
       "2662                 Yes          [AssertionError]                  No  "
      ]
     },
     "execution_count": 4,
     "metadata": {},
     "output_type": "execute_result"
    }
   ],
   "source": [
    "df_flat[df_flat['failed_job.job_id'] == 7068728014]"
   ]
  },
  {
   "cell_type": "code",
   "execution_count": 5,
   "id": "fa8f107b-e28d-44bb-9794-0907941dda68",
   "metadata": {},
   "outputs": [
    {
     "name": "stdout",
     "output_type": "stream",
     "text": [
      "True\n"
     ]
    }
   ],
   "source": [
    "for record in data:\n",
    "    if record.get('failed_job').get('job_id') == 7068728014:\n",
    "        print(True)"
   ]
  },
  {
   "cell_type": "code",
   "execution_count": 6,
   "id": "bc26068d-17ed-41bc-9732-5db8d398d44f",
   "metadata": {},
   "outputs": [],
   "source": [
    "def clone_repo_at_commit(repo_url, repo, failed_dest_dir, passed_dest_dir,  failed_commit_sha, passed_commit_sha, output_file_path):\n",
    "    print(repo_url, repo.split('/')[1], failed_dest_dir, passed_dest_dir, output_file_path)\n",
    "    subprocess.run([\"git\", \"clone\", repo_url, '/tmp/' + repo.split('/')[1] + '/Buggy'])\n",
    "    os.chdir('/tmp/' + repo.split('/')[1] + '/Buggy')\n",
    "    subprocess.run([\"git\", \"reset\", \"--hard\", failed_commit_sha])\n",
    "    shutil.copytree('/tmp/' + repo.split('/')[1] + '/Buggy', failed_dest_dir, ignore=shutil.ignore_patterns('.git*'))\n",
    "\n",
    "    subprocess.run([\"git\", \"clone\", repo_url, '/tmp/' + repo.split('/')[1] + '/Patched'])\n",
    "    os.chdir('/tmp/' + repo.split('/')[1] + '/Patched')\n",
    "    subprocess.run([\"git\", \"reset\", \"--hard\", passed_commit_sha])\n",
    "    shutil.copytree('/tmp/' + repo.split('/')[1] + '/Patched', passed_dest_dir, ignore=shutil.ignore_patterns('.git*'))\n",
    "\n",
    "    with open(output_file_path, 'w') as output_file:\n",
    "            subprocess.run(['git', 'diff', failed_dest_dir, passed_dest_dir], stdout=output_file)\n",
    "\n",
    "    subprocess.run([\"rm\", \"-rf\", \"/tmp/\" + repo.split('/')[1]])\n",
    "    \n",
    "    "
   ]
  },
  {
   "cell_type": "code",
   "execution_count": 7,
   "id": "ad49881e-b5e6-45b0-bf9d-d30b129d7174",
   "metadata": {},
   "outputs": [],
   "source": [
    "input = [\"apache-shiro-16456433682\", \n",
    "    \"bobocode-projects-java-fundamentals-exercises-7068728014\",\n",
    "    \"alibaba-fastjson2-9745791070\",\n",
    "    \"apache-servicecomb-java-chassis-9220678028\",\n",
    "    \"apache-shardingsphere-15043584565\",\n",
    "    \"apache-shardingsphere-14283109357\",\n",
    "    # \"square-okhttp-397194600\",\n",
    "    #\"TheAlgorithms-Python-17493072334\",\n",
    "    \"kevin218-Eureka-12929091479\",\n",
    "    \"spesmilo-electrum-293054995\",\n",
    "    \"swagger-api-swagger-core-245823910\",\n",
    "    # \"apache-jackrabbit-oak-337535542\",\n",
    "    # \"spring-projects-spring-security-oauth-451380564\",\n",
    "    # \"spring-projects-spring-security-oauth-451380565\",\n",
    "    \"paramiko-paramiko-88695199\",\n",
    "    # \"languagetool-org-languagetool-546883807\",\n",
    "    \"traccar-traccar-9287925064\",\n",
    "    \"joel-costigliola-assertj-core-309871149\",\n",
    "    \"EducationalTestingService-skll-308660061\",\n",
    "    \"EducationalTestingService-skll-308660063\",\n",
    "    #\"debezium-debezium-15920299506\",\n",
    "    #\"IHVH-OEMIB_PI01_19_TBOT-12579424042\",\n",
    "    #\"LASY-org-lasy-13665357123\",\n",
    "    #\"thm-projects-arsnova-backend-349234145\",\n",
    "    #\"aws-aws-sam-cli-16196164089\",\n",
    "    #\"graphhopper-graphhopper-221837923\",\n",
    "    # \"SpigotMC-BungeeCord-10806539885\",\n",
    "    # \"SpigotMC-BungeeCord-10806539922\",\n",
    "    # \"SpigotMC-BungeeCord-10806539963\",\n",
    "    \"alibaba-fastjson2-9745790591\",\n",
    "    \"alibaba-fastjson2-9745790836\",\n",
    "    #\"yt-dlp-yt-dlp-16047395836\",\n",
    "    #\"IQSS-dataverse-402758963\",\n",
    "    \"EducationalTestingService-skll-308660060\",\n",
    "    #\"igniterealtime-Openfire-16538544714\",\n",
    "    #\"NitorCreations-nflow-654160011\",\n",
    "    # \"Adobe-Consulting-Services-acs-aem-commons-439308122\",\n",
    "    \"saulpw-visidata-17624006231\",\n",
    "    \"apache-dubbo-416671625\"]"
   ]
  },
  {
   "cell_type": "code",
   "execution_count": 181,
   "id": "4f5711a1-126a-40f4-8d51-6e63d7efc93a",
   "metadata": {},
   "outputs": [],
   "source": [
    "input = [\"alibaba-fastjson2-13283643245\"]"
   ]
  },
  {
   "cell_type": "code",
   "execution_count": 182,
   "id": "a4063681-b2d5-4510-8906-2a6ba54412a3",
   "metadata": {},
   "outputs": [],
   "source": [
    "input = [i.split('-')[1:] for i in input]"
   ]
  },
  {
   "cell_type": "code",
   "execution_count": 183,
   "id": "ae137e19-ee57-47e0-a71f-d531a3e15b6f",
   "metadata": {},
   "outputs": [],
   "source": [
    "job_name = ['-'.join(sublist[:]) for sublist in input]\n",
    "job_id = [int(sublist[-1]) for sublist in input]"
   ]
  },
  {
   "cell_type": "code",
   "execution_count": 184,
   "id": "d56e1dd6-8813-42da-a78c-5a51f5951b7f",
   "metadata": {},
   "outputs": [],
   "source": [
    "input = {job_name[i]: job_id[i] for i in range(len(job_name))}"
   ]
  },
  {
   "cell_type": "code",
   "execution_count": 185,
   "id": "b76e0b1b-ea57-42aa-8956-537ccee5f89f",
   "metadata": {},
   "outputs": [
    {
     "name": "stdout",
     "output_type": "stream",
     "text": [
      "https://github.com/alibaba/fastjson2.git fastjson2 /home/ashwin/UIUC/CS527/Project/CS527-Project/Bugs/BugSwarm/fastjson2-13283643245/Buggy-version /home/ashwin/UIUC/CS527/Project/CS527-Project/Bugs/BugSwarm/fastjson2-13283643245/Patched-Version /home/ashwin/UIUC/CS527/Project/CS527-Project/Bugs/BugSwarm/fastjson2-13283643245/Diff\n"
     ]
    },
    {
     "name": "stderr",
     "output_type": "stream",
     "text": [
      "Cloning into '/tmp/fastjson2/Buggy'...\n"
     ]
    },
    {
     "name": "stdout",
     "output_type": "stream",
     "text": [
      "HEAD is now at 3924d7663 deserialize support OffsetDateTime\n"
     ]
    },
    {
     "name": "stderr",
     "output_type": "stream",
     "text": [
      "Cloning into '/tmp/fastjson2/Patched'...\n"
     ]
    },
    {
     "name": "stdout",
     "output_type": "stream",
     "text": [
      "HEAD is now at 9e9744985 improve OffsetDateTime support\n"
     ]
    }
   ],
   "source": [
    "for record in data:\n",
    "    if record.get('failed_job').get('job_id') in input.values():\n",
    "        failed_job = record.get(\"failed_job\")\n",
    "        root_dir = '/home/ashwin/UIUC/CS527/Project/CS527-Project/Bugs/BugSwarm'\n",
    "        passed_job = record.get(\"passed_job\")\n",
    "        repo = record.get(\"repo\")\n",
    "        base_repo_url = 'https://github.com/'\n",
    "        diff_url = record.get(\"diff_url\")\n",
    "        dest_dir = os.path.join(root_dir, list(input.keys())[list(input.values()).index(record.get('failed_job').get('job_id'))])\n",
    "        os.mkdir(dest_dir)           \n",
    "        os.chdir(dest_dir)\n",
    "        \n",
    "        repo_url = f\"{base_repo_url}{repo}.git\"\n",
    "        if failed_job:\n",
    "            failed_trigger_sha = failed_job.get(\"trigger_sha\")\n",
    "            failed_dest_dir = dest_dir + \"/Buggy-version\"\n",
    "        \n",
    "        if passed_job:\n",
    "            passed_trigger_sha = passed_job.get(\"trigger_sha\")\n",
    "            passed_dest_dir = dest_dir + \"/Patched-Version\"\n",
    "    \n",
    "        output_file_path = dest_dir + f\"/Diff\"\n",
    "        clone_repo_at_commit(repo_url, repo, failed_dest_dir, passed_dest_dir, failed_trigger_sha, passed_trigger_sha, output_file_path)\n",
    "       "
   ]
  },
  {
   "cell_type": "code",
   "execution_count": null,
   "id": "369701a5",
   "metadata": {},
   "outputs": [],
   "source": []
  }
 ],
 "metadata": {
  "kernelspec": {
   "display_name": "Python 3 (ipykernel)",
   "language": "python",
   "name": "python3"
  },
  "language_info": {
   "codemirror_mode": {
    "name": "ipython",
    "version": 3
   },
   "file_extension": ".py",
   "mimetype": "text/x-python",
   "name": "python",
   "nbconvert_exporter": "python",
   "pygments_lexer": "ipython3",
   "version": "3.10.12"
  }
 },
 "nbformat": 4,
 "nbformat_minor": 5
}
